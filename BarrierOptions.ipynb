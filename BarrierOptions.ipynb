{
 "cells": [
  {
   "cell_type": "markdown",
   "metadata": {},
   "source": [
    "# Up-and-out Call Option\n",
    "\n",
    "The goal is to price a European up-and-out call option. This is a call option whose payoff becomes 0 if the share price gets too high over the lifetime of the option. Note that this limits the final payoff of the option, which subsequently makes it cheaper that a vanilla call option.\n",
    "\n",
    "The payoff of this option at maturity $T$ is as follows:\n",
    "\n",
    "> $\\large v\\left(S_T\\right) =\\left(S_T - K\\right)^+ \\text{ given } \\underset{t \\in [0, T]}{\\max} S_t < L$\n",
    "\n",
    "where $K$ is the strike of the option, $L$ is the barrier level, and $S_t$ is the share price at time $t$.\n",
    "\n",
    "Observe that the payoff of the option is dependent on the value of the share price between the inception of the option and maturity. This means that the option payoff is dependent on the history of the share price, and not just its terminal value. As a result, you will need to simulate entire share price paths to estimate the price of this option. You may make the assumptions of the Black-Sholes-Merton model (i.e. assume that the stock value follow Geometric Brownian Motion with constant drift and volatilities.) \n",
    "\n",
    "> $\\large S_t = S_0 exp\\left( \\left(r - \\frac{\\sigma^2}{2} \\right)t + \\sigma\\sqrt{t}Z \\right)$\n",
    "\n",
    "\n",
    "Using the following parameters:\n",
    "\n",
    "* The maturity of the option is in a year’s time\n",
    "\n",
    "* The option is struck at-the-money\n",
    "\n",
    "* The up-and-out barrier for the option is \\$150\n",
    "\n",
    "* The current share price is \\$100\n",
    "\n",
    "* The risk-free continuously compounded interest rate is 8%\n",
    "\n",
    "* The volatility for the underlying share is 30%\n",
    "\n",
    "\n"
   ]
  },
  {
   "cell_type": "code",
   "execution_count": 1,
   "metadata": {},
   "outputs": [],
   "source": [
    "# Market information\n",
    "r = 0.08 # risk-free rate\n",
    "\n",
    "# Share specific information\n",
    "S_0 = 100    # initial share price\n",
    "sigma = 0.30 # volatility\n",
    "\n",
    "# Option specific information\n",
    "K = 100 # strike price\n",
    "T = 1.0 # term of contract\n",
    "L = 150 # up-and-out barrier\n"
   ]
  },
  {
   "cell_type": "markdown",
   "metadata": {},
   "source": [
    "1. Simulate paths for the underlying share value using sample sizes of 1000, 2000, …, 50000. Do monthly simulations for the lifetime of the option.\n"
   ]
  },
  {
   "cell_type": "code",
   "execution_count": 2,
   "metadata": {},
   "outputs": [],
   "source": [
    "import numpy as np\n",
    "from scipy.stats import norm\n",
    "\n",
    "np.random.seed(0)\n",
    "\n",
    "def option_payoff(S_0, r, sigma, Z, t, L):\n",
    "    '''Generates the option payoff given some some random normal values Z'''\n",
    "    S_t = S_0*np.exp((r - sigma**2/2)*t + sigma*np.sqrt(t)*Z)\n",
    "    S_m = np.amax(S_t, axis=1)  # max value of each row\n",
    "    S_T = S_t[:,-1]             # terminal value of each row\n",
    "    return S_T * (S_m < L)\n",
    "\n",
    "def discounted_call_payoff(S_T, K, r, T):\n",
    "    '''Function for evaluating the discounted payoff of a call in a Monte Carlo Estimation'''\n",
    "    return np.exp(-r*T)*np.maximum(S_T-K, 0)\n",
    "\n",
    "call_est = [None]*50\n",
    "call_std = [None]*50\n",
    "\n",
    "months = int(T*12)\n",
    "\n",
    "for i in range(1, 51):\n",
    "    # First simulate option prices\n",
    "    t = np.arange(1/12, (months + 1)/12, 1/12)\n",
    "    Z_s = norm.rvs(size = [i*1000, months])\n",
    "    S_T = option_payoff(S_0, r, sigma, Z_s, t, L)\n",
    "    call_val = discounted_call_payoff(S_T, K, r, T)\n",
    "    call_est[i-1] = np.mean(call_val)\n",
    "    call_std[i-1] = np.std(call_val)/np.sqrt(i*1000)\n",
    "        "
   ]
  },
  {
   "cell_type": "markdown",
   "metadata": {},
   "source": [
    "2. Determine analytical value of the option and compare with the Monte Carlo estimate.\n"
   ]
  },
  {
   "cell_type": "markdown",
   "metadata": {},
   "source": [
    "The analytical call price of the up-and-out call option is given by [1]:\n",
    "\n",
    "> $\\large V(0) = S_0 \\left[ \\Phi \\left( \\delta_{+}\\left( T, \\frac{S_0}{K}\\right) \\right) - \\Phi \\left( \\delta_{+}\\left( T, \\frac{S_0}{L}\\right) \\right) \\right]\\\\\n",
    "-e^{-rT} K \\left[ \\Phi \\left( \\delta_{-}\\left( T, \\frac{S_0}{K}\\right) \\right) - \\Phi \\left( \\delta_{-}\\left( T, \\frac{S_0}{L}\\right) \\right) \\right]\\\\\n",
    "-L\\left( \\frac{S_0}{L} \\right)^{-\\frac{2r}{\\sigma^2}} \\left[ \\Phi \\left( \\delta_{+}\\left( T, \\frac{L^2}{K S_0}\\right) \\right) - \\Phi \\left( \\delta_{+}\\left( T, \\frac{L}{S_0}\\right) \\right) \\right]\\\\\n",
    "+e^{-rT} K \\left( \\frac{S_0}{L} \\right)^{-\\frac{2r}{\\sigma^2}-1} \\left[ \\Phi \\left( \\delta_{-}\\left( T, \\frac{L^2}{K S_0}\\right) \\right) - \\Phi \\left( \\delta_{-}\\left( T, \\frac{L}{S_0}\\right) \\right) \\right]$\n",
    "\n",
    "where we define the function\n",
    "\n",
    "> $\\large \\delta_{\\pm}(\\tau, s) = \\frac{1}{\\sigma \\sqrt{T}} \\left[ \\ln s + \\left( r \\pm \\frac{1}{2} \\sigma^2 \\right)\\tau \\right]$\n",
    "\n",
    "\n"
   ]
  },
  {
   "cell_type": "code",
   "execution_count": 3,
   "metadata": {},
   "outputs": [
    {
     "data": {
      "image/png": "[encoded data removed]",
      "text/plain": [
       "<Figure size 432x288 with 1 Axes>"
      ]
     },
     "metadata": {
      "needs_background": "light"
     },
     "output_type": "display_data"
    }
   ],
   "source": [
    "%matplotlib inline\n",
    "import matplotlib.pyplot as plt\n",
    "import math\n",
    "\n",
    "# Calculate the analytical call value of the barrier option\n",
    "\n",
    "def delta_plus(tau, s, sigma, r):\n",
    "    return (math.log(s)+(r+sigma**2/2)*tau)/(sigma*np.sqrt(tau))\n",
    "\n",
    "def delta_minus(tau, s, sigma, r):\n",
    "    return (math.log(s)+(r-sigma**2/2)*tau)/(sigma*np.sqrt(tau))\n",
    "\n",
    "p1 = (norm.cdf(delta_plus(T, S_0/K, sigma, r))-norm.cdf(delta_plus(T, S_0/L, sigma, r)))*S_0\n",
    "p2 = (norm.cdf(delta_minus(T, S_0/K, sigma, r))-norm.cdf(delta_minus(T, S_0/L, sigma, r)))*K*np.exp(-r*T)\n",
    "p3 = (norm.cdf(delta_plus(T, L**2/(K*S_0), sigma, r))-norm.cdf(delta_plus(T, L/S_0, sigma, r)))*L*(S_0/L)**(-2*r/sigma**2)\n",
    "p4 = (norm.cdf(delta_minus(T, L**2/(K*S_0), sigma, r))-norm.cdf(delta_minus(T, L/S_0, sigma, r)))*K*np.exp(-r*T)*(S_0/L)**(1-2*r/sigma**2)\n",
    "\n",
    "analytical_callprice = p1-p2-p3+p4\n",
    "\n",
    "# Plotting the graph\n",
    "plt.plot([analytical_callprice]*50)\n",
    "plt.plot(call_est, '*')\n",
    "plt.plot(analytical_callprice + np.array(call_std)*3)\n",
    "plt.plot(analytical_callprice - np.array(call_std)*3)\n",
    "plt.show()"
   ]
  },
  {
   "cell_type": "markdown",
   "metadata": {},
   "source": [
    "## Bibliography\n",
    "\n",
    "[1] Shreve, Steven E (2004). Stochastic Calculus for Finance II. Springer-Verlag New York, LLC.\n"
   ]
  }
 ],
 "metadata": {
  "kernelspec": {
   "display_name": "Python 3",
   "language": "python",
   "name": "python3"
  },
  "language_info": {
   "codemirror_mode": {
    "name": "ipython",
    "version": 3
   },
   "file_extension": ".py",
   "mimetype": "text/x-python",
   "name": "python",
   "nbconvert_exporter": "python",
   "pygments_lexer": "ipython3",
   "version": "3.7.3"
  }
 },
 "nbformat": 4,
 "nbformat_minor": 2
}
